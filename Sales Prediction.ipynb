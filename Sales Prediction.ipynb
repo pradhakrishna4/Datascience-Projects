{
 "cells": [
  {
   "cell_type": "code",
   "execution_count": 1,
   "metadata": {},
   "outputs": [],
   "source": [
    "import numpy as np\n",
    "import pandas as pd\n",
    "import matplotlib.pyplot as plt\n",
    "import seaborn as sns\n",
    "import warnings\n",
    "warnings.filterwarnings('ignore')"
   ]
  },
  {
   "cell_type": "code",
   "execution_count": 2,
   "metadata": {},
   "outputs": [],
   "source": [
    "train=pd.read_csv('train.csv')"
   ]
  },
  {
   "cell_type": "code",
   "execution_count": 3,
   "metadata": {},
   "outputs": [],
   "source": [
    "test=pd.read_csv('test.csv')"
   ]
  },
  {
   "cell_type": "code",
   "execution_count": 4,
   "metadata": {},
   "outputs": [],
   "source": [
    "macro=pd.read_excel('macro_economic.xlsx')"
   ]
  },
  {
   "cell_type": "code",
   "execution_count": 5,
   "metadata": {},
   "outputs": [],
   "source": [
    "weath=pd.read_excel('weather1.xlsx')"
   ]
  },
  {
   "cell_type": "code",
   "execution_count": 6,
   "metadata": {},
   "outputs": [
    {
     "name": "stdout",
     "output_type": "stream",
     "text": [
      "Columns of train: Index(['Year', 'Month', 'ProductCategory', 'Sales(In ThousandDollars)'], dtype='object')\n",
      "Columns of test: Index(['Year', 'Month', 'ProductCategory', 'Sales(In ThousandDollars)'], dtype='object')\n",
      "Columns of macro: Index(['Year-Month', 'Monthly Nominal GDP Index (inMillion$)',\n",
      "       'Monthly Real GDP Index (inMillion$)', 'CPI', 'PartyInPower',\n",
      "       'unemployment rate', 'CommercialBankInterestRateonCreditCardPlans',\n",
      "       'Finance Rate on Personal Loans at Commercial Banks, 24 Month Loan',\n",
      "       'Earnings or wages  in dollars per hour',\n",
      "       'AdvertisingExpenses (in Thousand Dollars)',\n",
      "       'Cotton Monthly Price - US cents per Pound(lbs)', 'Change(in%)',\n",
      "       'Average upland planted(million acres)',\n",
      "       'Average upland harvested(million acres)', 'yieldperharvested acre',\n",
      "       'Production (in  480-lb netweright in million bales)',\n",
      "       'Mill use  (in  480-lb netweright in million bales)', 'Exports'],\n",
      "      dtype='object')\n",
      "Columns of weather: Index(['Year', 'Month', 'Day', 'Temp high (°C)', 'Temp avg (°C)',\n",
      "       'Temp low (°C)', 'Dew Point high (°C)', 'Dew Point avg (°C)',\n",
      "       'Dew Point low (°C)', 'Humidity (%) high', 'Humidity (%) avg',\n",
      "       'Humidity (%) low', 'Sea Level Press. (hPa) high',\n",
      "       'Sea Level Press. (hPa) avg', 'Sea Level Press. (hPa) low',\n",
      "       'Visibility (km) high', 'Visibility (km) avg', 'Visibility (km) low',\n",
      "       'Wind (km/h) low', 'Wind (km/h) avg', 'Wind (km/h) high',\n",
      "       'Precip. (mm) sum', 'WeatherEvent'],\n",
      "      dtype='object')\n"
     ]
    }
   ],
   "source": [
    "print('Columns of train:',train.columns)\n",
    "print('Columns of test:',test.columns)\n",
    "print('Columns of macro:',macro.columns)\n",
    "print('Columns of weather:',weath.columns)"
   ]
  },
  {
   "cell_type": "code",
   "execution_count": 7,
   "metadata": {},
   "outputs": [],
   "source": [
    "macro['Year'] = macro['Year-Month'].str[:4].astype(int)\n",
    "macro['Month'] = macro['Year-Month'].str[-3:].replace({'Jan':1,'Feb':2,'Mar':3,'Apr':4,'May':5,'Jun':6,'Jul':7,'Aug':8,\n",
    "                                'Sep':9,'Oct':10,'Nov':11,'Dec':12})"
   ]
  },
  {
   "cell_type": "code",
   "execution_count": 8,
   "metadata": {},
   "outputs": [],
   "source": [
    "macro=macro.drop(['Year-Month','AdvertisingExpenses (in Thousand Dollars)','PartyInPower'],axis=1)"
   ]
  },
  {
   "cell_type": "code",
   "execution_count": 9,
   "metadata": {},
   "outputs": [
    {
     "data": {
      "text/plain": [
       "Monthly Nominal GDP Index (inMillion$)                               0\n",
       "Monthly Real GDP Index (inMillion$)                                  0\n",
       "CPI                                                                  0\n",
       "unemployment rate                                                    0\n",
       "CommercialBankInterestRateonCreditCardPlans                          0\n",
       "Finance Rate on Personal Loans at Commercial Banks, 24 Month Loan    0\n",
       "Earnings or wages  in dollars per hour                               0\n",
       "Cotton Monthly Price - US cents per Pound(lbs)                       0\n",
       "Change(in%)                                                          0\n",
       "Average upland planted(million acres)                                0\n",
       "Average upland harvested(million acres)                              0\n",
       "yieldperharvested acre                                               0\n",
       "Production (in  480-lb netweright in million bales)                  0\n",
       "Mill use  (in  480-lb netweright in million bales)                   0\n",
       "Exports                                                              0\n",
       "Year                                                                 0\n",
       "Month                                                                0\n",
       "dtype: int64"
      ]
     },
     "execution_count": 9,
     "metadata": {},
     "output_type": "execute_result"
    }
   ],
   "source": [
    "macro.isnull().sum()"
   ]
  },
  {
   "cell_type": "code",
   "execution_count": 10,
   "metadata": {},
   "outputs": [
    {
     "name": "stdout",
     "output_type": "stream",
     "text": [
      "<class 'pandas.core.frame.DataFrame'>\n",
      "RangeIndex: 2922 entries, 0 to 2921\n",
      "Data columns (total 23 columns):\n",
      "Year                           2922 non-null int64\n",
      "Month                          2922 non-null object\n",
      "Day                            2922 non-null int64\n",
      "Temp high (°C)                 2922 non-null object\n",
      "Temp avg (°C)                  2922 non-null object\n",
      "Temp low (°C)                  2922 non-null object\n",
      "Dew Point high (°C)            2922 non-null object\n",
      "Dew Point avg (°C)             2922 non-null object\n",
      "Dew Point low (°C)             2922 non-null object\n",
      "Humidity (%) high              2922 non-null object\n",
      "Humidity (%) avg               2922 non-null object\n",
      "Humidity (%) low               2922 non-null object\n",
      "Sea Level Press. (hPa) high    2922 non-null object\n",
      "Sea Level Press. (hPa) avg     2922 non-null object\n",
      "Sea Level Press. (hPa) low     2922 non-null object\n",
      "Visibility (km) high           2922 non-null object\n",
      "Visibility (km) avg            2922 non-null object\n",
      "Visibility (km) low            2922 non-null object\n",
      "Wind (km/h) low                2922 non-null object\n",
      "Wind (km/h) avg                2922 non-null object\n",
      "Wind (km/h) high               2922 non-null object\n",
      "Precip. (mm) sum               2922 non-null object\n",
      "WeatherEvent                   1014 non-null object\n",
      "dtypes: int64(2), object(21)\n",
      "memory usage: 525.2+ KB\n"
     ]
    }
   ],
   "source": [
    "weath.info()"
   ]
  },
  {
   "cell_type": "code",
   "execution_count": 11,
   "metadata": {},
   "outputs": [
    {
     "data": {
      "text/plain": [
       "Oct    248\n",
       "May    248\n",
       "Aug    248\n",
       "Jul    248\n",
       "Mar    248\n",
       "Jan    248\n",
       "Dec    248\n",
       "Nov    240\n",
       "Apr    240\n",
       "Jun    240\n",
       "Sep    240\n",
       "Feb    226\n",
       "Name: Month, dtype: int64"
      ]
     },
     "execution_count": 11,
     "metadata": {},
     "output_type": "execute_result"
    }
   ],
   "source": [
    "weath['Month'].value_counts()"
   ]
  },
  {
   "cell_type": "code",
   "execution_count": 12,
   "metadata": {},
   "outputs": [
    {
     "data": {
      "text/plain": [
       "Year                              0\n",
       "Month                             0\n",
       "Day                               0\n",
       "Temp high (°C)                    0\n",
       "Temp avg (°C)                     0\n",
       "Temp low (°C)                     0\n",
       "Dew Point high (°C)               0\n",
       "Dew Point avg (°C)                0\n",
       "Dew Point low (°C)                0\n",
       "Humidity (%) high                 0\n",
       "Humidity (%) avg                  0\n",
       "Humidity (%) low                  0\n",
       "Sea Level Press. (hPa) high       0\n",
       "Sea Level Press. (hPa) avg        0\n",
       "Sea Level Press. (hPa) low        0\n",
       "Visibility (km) high              0\n",
       "Visibility (km) avg               0\n",
       "Visibility (km) low               0\n",
       "Wind (km/h) low                   0\n",
       "Wind (km/h) avg                   0\n",
       "Wind (km/h) high                  0\n",
       "Precip. (mm) sum                  0\n",
       "WeatherEvent                   1908\n",
       "dtype: int64"
      ]
     },
     "execution_count": 12,
     "metadata": {},
     "output_type": "execute_result"
    }
   ],
   "source": [
    "weath.isnull().sum()"
   ]
  },
  {
   "cell_type": "code",
   "execution_count": 13,
   "metadata": {
    "cell_style": "split",
    "scrolled": true
   },
   "outputs": [
    {
     "data": {
      "text/plain": [
       "Rain                 685\n",
       "Fog , Rain           156\n",
       "Snow                  72\n",
       "Fog , Snow            39\n",
       "Rain , Snow           27\n",
       "Fog , Rain , Snow     22\n",
       "Fog                   12\n",
       "Thunderstorm           1\n",
       "Name: WeatherEvent, dtype: int64"
      ]
     },
     "execution_count": 13,
     "metadata": {},
     "output_type": "execute_result"
    }
   ],
   "source": [
    "weath['WeatherEvent'].value_counts()"
   ]
  },
  {
   "cell_type": "code",
   "execution_count": 14,
   "metadata": {
    "cell_style": "split"
   },
   "outputs": [
    {
     "data": {
      "text/plain": [
       "0         1754\n",
       "T          205\n",
       "0.25        86\n",
       "0.51        57\n",
       "0.76        45\n",
       "          ... \n",
       "28.7         1\n",
       "46.23        1\n",
       "147.57       1\n",
       "33.53        1\n",
       "39.37        1\n",
       "Name: Precip. (mm) sum, Length: 179, dtype: int64"
      ]
     },
     "execution_count": 14,
     "metadata": {},
     "output_type": "execute_result"
    }
   ],
   "source": [
    "weath['Precip.\\xa0(mm) sum'].value_counts()"
   ]
  },
  {
   "cell_type": "code",
   "execution_count": 15,
   "metadata": {},
   "outputs": [
    {
     "name": "stdout",
     "output_type": "stream",
     "text": [
      "---- Year ---\n",
      "2016    366\n",
      "2012    366\n",
      "2015    365\n",
      "2013    365\n",
      "2011    365\n",
      "2009    365\n",
      "2014    365\n",
      "2010    365\n",
      "Name: Year, dtype: int64\n",
      "---- Month ---\n",
      "Oct    248\n",
      "May    248\n",
      "Aug    248\n",
      "Jul    248\n",
      "Mar    248\n",
      "Jan    248\n",
      "Dec    248\n",
      "Nov    240\n",
      "Apr    240\n",
      "Jun    240\n",
      "Sep    240\n",
      "Feb    226\n",
      "Name: Month, dtype: int64\n",
      "---- Day ---\n",
      "1     96\n",
      "28    96\n",
      "4     96\n",
      "6     96\n",
      "8     96\n",
      "10    96\n",
      "12    96\n",
      "14    96\n",
      "16    96\n",
      "18    96\n",
      "20    96\n",
      "22    96\n",
      "24    96\n",
      "26    96\n",
      "2     96\n",
      "3     96\n",
      "5     96\n",
      "7     96\n",
      "9     96\n",
      "11    96\n",
      "13    96\n",
      "15    96\n",
      "17    96\n",
      "19    96\n",
      "21    96\n",
      "23    96\n",
      "25    96\n",
      "27    96\n",
      "29    90\n",
      "30    88\n",
      "31    56\n",
      "Name: Day, dtype: int64\n",
      "---- Temp high (°C) ---\n",
      "28      140\n",
      "27      124\n",
      "29      114\n",
      "22      112\n",
      "18      110\n",
      "26      109\n",
      "23      104\n",
      "21      100\n",
      "12       98\n",
      "31       97\n",
      "14       96\n",
      "8        92\n",
      "17       90\n",
      "19       89\n",
      "7        88\n",
      "24       87\n",
      "4        86\n",
      "16       86\n",
      "13       84\n",
      "32       83\n",
      "11       80\n",
      "6        73\n",
      "3        70\n",
      "9        66\n",
      "2        59\n",
      "30       54\n",
      "10       53\n",
      "1        52\n",
      "15       50\n",
      "33       50\n",
      "-1       44\n",
      "25       42\n",
      "20       42\n",
      "34       35\n",
      "5        28\n",
      "0        28\n",
      "-3       21\n",
      "-2       20\n",
      "36       14\n",
      "-6       12\n",
      "-4        8\n",
      "35        7\n",
      "-7        6\n",
      "-5        5\n",
      "38        3\n",
      "37        2\n",
      "-9        2\n",
      "-8        2\n",
      "-         2\n",
      "39        1\n",
      "40        1\n",
      "high      1\n",
      "Name: Temp high (°C), dtype: int64\n",
      "---- Temp avg (°C) ---\n",
      "24     148\n",
      "23     125\n",
      "26     119\n",
      "22     115\n",
      "16     110\n",
      "12     110\n",
      "19     110\n",
      "17     110\n",
      "4      109\n",
      "8      102\n",
      "9      100\n",
      "13      96\n",
      "21      95\n",
      "6       92\n",
      "18      91\n",
      "11      90\n",
      "7       90\n",
      "27      90\n",
      "14      87\n",
      "1       85\n",
      "28      79\n",
      "2       79\n",
      "3       74\n",
      "10      64\n",
      "25      57\n",
      "-1      55\n",
      "-3      55\n",
      "20      53\n",
      "-2      49\n",
      "15      46\n",
      "-4      38\n",
      "5       38\n",
      "29      31\n",
      "0       29\n",
      "-7      18\n",
      "-6      17\n",
      "30      12\n",
      "31      11\n",
      "-9       9\n",
      "-8       6\n",
      "-5       6\n",
      "-10      5\n",
      "32       5\n",
      "-11      4\n",
      "33       2\n",
      "-        2\n",
      "34       1\n",
      "avg      1\n",
      "-14      1\n",
      "-12      1\n",
      "Name: Temp avg (°C), dtype: int64\n",
      "---- Temp low (°C) ---\n",
      "18     135\n",
      "21     128\n",
      "2      128\n",
      "19     127\n",
      "12     120\n",
      "6      118\n",
      "22     114\n",
      "16     106\n",
      "3      106\n",
      "8      106\n",
      "14     103\n",
      "7      100\n",
      "17      99\n",
      "13      98\n",
      "11      97\n",
      "4       96\n",
      "1       91\n",
      "-1      88\n",
      "9       87\n",
      "-2      83\n",
      "23      80\n",
      "20      74\n",
      "10      65\n",
      "5       64\n",
      "-4      62\n",
      "-3      59\n",
      "24      51\n",
      "0       42\n",
      "15      42\n",
      "-6      40\n",
      "-7      40\n",
      "-8      28\n",
      "-5      24\n",
      "-9      24\n",
      "-11     20\n",
      "26      17\n",
      "25      13\n",
      "-13     11\n",
      "-10      8\n",
      "27       7\n",
      "-16      4\n",
      "-12      4\n",
      "-14      4\n",
      "28       3\n",
      "-        2\n",
      "-17      1\n",
      "-18      1\n",
      "low      1\n",
      "29       1\n",
      "Name: Temp low (°C), dtype: int64\n",
      "---- Dew Point high (°C) ---\n",
      "18      138\n",
      "16      132\n",
      "14      128\n",
      "21      125\n",
      "13      124\n",
      "19      120\n",
      "22      118\n",
      "8       101\n",
      "12       98\n",
      "17       97\n",
      "11       96\n",
      "-1       93\n",
      "6        92\n",
      "9        90\n",
      "-2       89\n",
      "1        89\n",
      "2        84\n",
      "7        80\n",
      "4        79\n",
      "3        76\n",
      "23       75\n",
      "20       74\n",
      "-3       72\n",
      "-6       64\n",
      "-7       60\n",
      "10       59\n",
      "-4       54\n",
      "5        51\n",
      "15       50\n",
      "0        45\n",
      "-11      36\n",
      "-5       32\n",
      "24       31\n",
      "-8       31\n",
      "-9       25\n",
      "-12      23\n",
      "-10      20\n",
      "-13      17\n",
      "-14      10\n",
      "-16      10\n",
      "-17       7\n",
      "25        7\n",
      "26        4\n",
      "-15       4\n",
      "-18       3\n",
      "-21       3\n",
      "-         2\n",
      "-19       1\n",
      "-22       1\n",
      "-24       1\n",
      "high      1\n",
      "Name: Dew Point high (°C), dtype: int64\n",
      "---- Dew Point avg (°C) ---\n",
      "12     132\n",
      "18     121\n",
      "16     118\n",
      "11     113\n",
      "14     111\n",
      "17     108\n",
      "19     103\n",
      "-1     101\n",
      "13     101\n",
      "6      100\n",
      "-2      98\n",
      "-4      93\n",
      "4       91\n",
      "9       90\n",
      "7       89\n",
      "21      87\n",
      "3       87\n",
      "8       86\n",
      "1       84\n",
      "-3      81\n",
      "2       77\n",
      "-6      77\n",
      "-8      73\n",
      "-7      57\n",
      "-9      57\n",
      "0       54\n",
      "-12     50\n",
      "15      48\n",
      "22      45\n",
      "-13     43\n",
      "20      41\n",
      "-5      40\n",
      "-11     40\n",
      "5       39\n",
      "10      36\n",
      "-14     30\n",
      "-16     24\n",
      "-17     18\n",
      "23      15\n",
      "-10     15\n",
      "-18     15\n",
      "-19     10\n",
      "-15      7\n",
      "-20      3\n",
      "-22      3\n",
      "-        2\n",
      "-21      2\n",
      "24       2\n",
      "-24      2\n",
      "-27      1\n",
      "-23      1\n",
      "avg      1\n",
      "Name: Dew Point avg (°C), dtype: int64\n",
      "---- Dew Point low (°C) ---\n",
      "12     116\n",
      "9      115\n",
      "13     112\n",
      "-4     105\n",
      "11     104\n",
      "-3      99\n",
      "8       98\n",
      "17      95\n",
      "-8      93\n",
      "14      93\n",
      "-2      92\n",
      "-6      91\n",
      "1       90\n",
      "-7      88\n",
      "16      87\n",
      "4       83\n",
      "7       82\n",
      "6       80\n",
      "-1      79\n",
      "2       75\n",
      "3       74\n",
      "-9      70\n",
      "19      66\n",
      "-11     66\n",
      "18      60\n",
      "-16     54\n",
      "-5      54\n",
      "-13     53\n",
      "-12     53\n",
      "10      51\n",
      "5       50\n",
      "-14     44\n",
      "15      38\n",
      "-10     37\n",
      "0       36\n",
      "-18     35\n",
      "-17     32\n",
      "-19     30\n",
      "-15     30\n",
      "21      29\n",
      "-21     20\n",
      "20      18\n",
      "-22     12\n",
      "-20     10\n",
      "-24      6\n",
      "-25      5\n",
      "-27      4\n",
      "-23      2\n",
      "-        2\n",
      "22       2\n",
      "-28      1\n",
      "low      1\n",
      "Name: Dew Point low (°C), dtype: int64\n",
      "---- Humidity (%) high ---\n",
      "100     326\n",
      "93      281\n",
      "84       97\n",
      "92       90\n",
      "70       82\n",
      "       ... \n",
      "34        1\n",
      "high      1\n",
      "35        1\n",
      "40        1\n",
      "28        1\n",
      "Name: Humidity (%) high, Length: 67, dtype: int64\n",
      "---- Humidity (%) avg ---\n",
      "54     97\n",
      "56     82\n",
      "58     79\n",
      "48     78\n",
      "63     75\n",
      "       ..\n",
      "-       2\n",
      "28      1\n",
      "96      1\n",
      "20      1\n",
      "avg     1\n",
      "Name: Humidity (%) avg, Length: 76, dtype: int64\n",
      "---- Humidity (%) low ---\n",
      "34     94\n",
      "38     91\n",
      "44     87\n",
      "40     86\n",
      "36     85\n",
      "       ..\n",
      "-       2\n",
      "low     1\n",
      "13      1\n",
      "92      1\n",
      "9       1\n",
      "Name: Humidity (%) low, Length: 84, dtype: int64\n",
      "---- Sea Level Press. (hPa) high ---\n",
      "1020    172\n",
      "1021    171\n",
      "1016    171\n",
      "1017    166\n",
      "1019    161\n",
      "1022    161\n",
      "1023    147\n",
      "1014    146\n",
      "1015    143\n",
      "1024    127\n",
      "1025    117\n",
      "1013    110\n",
      "1026    106\n",
      "1012    104\n",
      "1027     97\n",
      "1018     97\n",
      "1028     75\n",
      "1011     72\n",
      "1029     67\n",
      "1030     62\n",
      "1010     52\n",
      "1031     41\n",
      "1032     41\n",
      "1009     40\n",
      "1008     38\n",
      "1007     29\n",
      "1033     25\n",
      "1006     21\n",
      "-        19\n",
      "1035     19\n",
      "1034     18\n",
      "1005     16\n",
      "1036     14\n",
      "1004     13\n",
      "1037     11\n",
      "1003     11\n",
      "1038     11\n",
      "1039      5\n",
      "1041      4\n",
      "1040      3\n",
      "1001      3\n",
      "1002      3\n",
      "1000      3\n",
      "1044      2\n",
      "1042      1\n",
      "1043      1\n",
      "high      1\n",
      "994       1\n",
      "995       1\n",
      "998       1\n",
      "999       1\n",
      "996       1\n",
      "Name: Sea Level Press. (hPa) high, dtype: int64\n",
      "---- Sea Level Press. (hPa) avg ---\n",
      "1016    166\n",
      "1014    165\n",
      "1012    164\n",
      "1015    161\n",
      "1019    156\n",
      "1017    148\n",
      "1013    148\n",
      "1020    142\n",
      "1011    137\n",
      "1022    131\n",
      "1021    129\n",
      "1018    119\n",
      "1023    108\n",
      "1010    103\n",
      "1009     93\n",
      "1025     79\n",
      "1024     71\n",
      "1008     69\n",
      "1007     62\n",
      "1026     57\n",
      "1006     56\n",
      "1027     51\n",
      "1005     46\n",
      "1028     42\n",
      "1029     33\n",
      "1004     30\n",
      "1030     29\n",
      "1031     28\n",
      "1002     27\n",
      "1003     23\n",
      "1000     21\n",
      "-        19\n",
      "1033     14\n",
      "1001     13\n",
      "1032     13\n",
      "999       9\n",
      "1036      8\n",
      "994       6\n",
      "998       6\n",
      "1035      5\n",
      "1037      4\n",
      "997       4\n",
      "1034      4\n",
      "996       4\n",
      "993       4\n",
      "1038      3\n",
      "992       2\n",
      "1041      2\n",
      "avg       1\n",
      "989       1\n",
      "991       1\n",
      "990       1\n",
      "988       1\n",
      "987       1\n",
      "1040      1\n",
      "980       1\n",
      "Name: Sea Level Press. (hPa) avg, dtype: int64\n",
      "---- Sea Level Press. (hPa) low ---\n",
      "1013    174\n",
      "1011    170\n",
      "1012    168\n",
      "1015    161\n",
      "1014    148\n",
      "1009    147\n",
      "1016    143\n",
      "1010    143\n",
      "1020    126\n",
      "1019    121\n",
      "1008    120\n",
      "1017    104\n",
      "1007     97\n",
      "1006     94\n",
      "1021     87\n",
      "1018     82\n",
      "1004     73\n",
      "1023     71\n",
      "1005     66\n",
      "1022     60\n",
      "1003     55\n",
      "1024     49\n",
      "1025     47\n",
      "1002     42\n",
      "1001     41\n",
      "1026     32\n",
      "1027     29\n",
      "1000     28\n",
      "999      27\n",
      "998      27\n",
      "-        19\n",
      "997      18\n",
      "1028     17\n",
      "1029     17\n",
      "994      15\n",
      "996      14\n",
      "993       9\n",
      "995       9\n",
      "1030      8\n",
      "1032      8\n",
      "989       8\n",
      "1031      6\n",
      "992       5\n",
      "1033      4\n",
      "983       4\n",
      "991       4\n",
      "986       3\n",
      "987       3\n",
      "988       3\n",
      "1036      2\n",
      "990       2\n",
      "1034      2\n",
      "1037      2\n",
      "966       2\n",
      "1035      1\n",
      "984       1\n",
      "low       1\n",
      "978       1\n",
      "982       1\n",
      "980       1\n",
      "Name: Sea Level Press. (hPa) low, dtype: int64\n",
      "---- Visibility (km) high ---\n",
      "16      2794\n",
      "14        52\n",
      "-         28\n",
      "13        25\n",
      "11        13\n",
      "10         7\n",
      "8          2\n",
      "high       1\n",
      "Name: Visibility (km) high, dtype: int64\n",
      "---- Visibility (km) avg ---\n",
      "16     1619\n",
      "15      238\n",
      "14      204\n",
      "13      124\n",
      "9       115\n",
      "10      113\n",
      "12      106\n",
      "11       90\n",
      "8        83\n",
      "7        81\n",
      "6        65\n",
      "5        38\n",
      "-        28\n",
      "4        10\n",
      "3         5\n",
      "avg       1\n",
      "2         1\n",
      "1         1\n",
      "Name: Visibility (km) avg, dtype: int64\n",
      "---- Visibility (km) low ---\n",
      "16     1274\n",
      "1       240\n",
      "2       201\n",
      "3       185\n",
      "14      179\n",
      "13      135\n",
      "11      130\n",
      "0       121\n",
      "6       106\n",
      "10      105\n",
      "8        87\n",
      "4        78\n",
      "5        52\n",
      "-        28\n",
      "low       1\n",
      "Name: Visibility (km) low, dtype: int64\n",
      "---- Wind (km/h) low ---\n",
      "21     377\n",
      "19     360\n",
      "23     316\n",
      "16     302\n",
      "24     293\n",
      "26     242\n",
      "27     214\n",
      "14     185\n",
      "29     138\n",
      "32      98\n",
      "34      94\n",
      "13      80\n",
      "35      57\n",
      "37      37\n",
      "11      26\n",
      "40      20\n",
      "-       20\n",
      "39      19\n",
      "42       9\n",
      "10       8\n",
      "48       6\n",
      "47       5\n",
      "45       4\n",
      "50       2\n",
      "52       2\n",
      "8        2\n",
      "low      1\n",
      "60       1\n",
      "61       1\n",
      "121      1\n",
      "159      1\n",
      "6        1\n",
      "Name: Wind (km/h) low, dtype: int64\n",
      "---- Wind (km/h) avg ---\n",
      "7      338\n",
      "8      335\n",
      "9      328\n",
      "6      296\n",
      "5      268\n",
      "10     226\n",
      "11     191\n",
      "12     150\n",
      "4      150\n",
      "13     119\n",
      "14     119\n",
      "3       76\n",
      "15      60\n",
      "16      56\n",
      "17      47\n",
      "18      33\n",
      "19      28\n",
      "2       22\n",
      "-       20\n",
      "20      20\n",
      "22       8\n",
      "23       7\n",
      "21       5\n",
      "24       4\n",
      "1        4\n",
      "25       3\n",
      "0        3\n",
      "avg      1\n",
      "26       1\n",
      "28       1\n",
      "30       1\n",
      "37       1\n",
      "159      1\n",
      "Name: Wind (km/h) avg, dtype: int64\n",
      "---- Wind (km/h) high ---\n",
      "35      229\n",
      "27      208\n",
      "32      206\n",
      "29      194\n",
      "37      189\n",
      "26      188\n",
      "34      159\n",
      "40      150\n",
      "39      141\n",
      "42      127\n",
      "31      120\n",
      "24      115\n",
      "23      107\n",
      "45       90\n",
      "48       76\n",
      "47       65\n",
      "21       59\n",
      "-        59\n",
      "50       57\n",
      "52       51\n",
      "43       49\n",
      "53       41\n",
      "19       34\n",
      "56       32\n",
      "58       30\n",
      "55       22\n",
      "60       17\n",
      "64       16\n",
      "63       14\n",
      "61       14\n",
      "18       12\n",
      "69       11\n",
      "66       10\n",
      "16        8\n",
      "71        4\n",
      "72        3\n",
      "14        3\n",
      "74        2\n",
      "68        2\n",
      "high      1\n",
      "76        1\n",
      "77        1\n",
      "85        1\n",
      "97        1\n",
      "100       1\n",
      "159       1\n",
      "11        1\n",
      "Name: Wind (km/h) high, dtype: int64\n",
      "---- Precip. (mm) sum ---\n",
      "0         1754\n",
      "T          205\n",
      "0.25        86\n",
      "0.51        57\n",
      "0.76        45\n",
      "          ... \n",
      "28.7         1\n",
      "46.23        1\n",
      "147.57       1\n",
      "33.53        1\n",
      "39.37        1\n",
      "Name: Precip. (mm) sum, Length: 179, dtype: int64\n",
      "---- WeatherEvent ---\n",
      "Rain                 685\n",
      "Fog , Rain           156\n",
      "Snow                  72\n",
      "Fog , Snow            39\n",
      "Rain , Snow           27\n",
      "Fog , Rain , Snow     22\n",
      "Fog                   12\n",
      "Thunderstorm           1\n",
      "Name: WeatherEvent, dtype: int64\n"
     ]
    }
   ],
   "source": [
    "for c in weath.columns:\n",
    "    print( \"---- %s ---\" % c)\n",
    "    print(weath[c].value_counts())"
   ]
  },
  {
   "cell_type": "code",
   "execution_count": 16,
   "metadata": {},
   "outputs": [],
   "source": [
    "for i in weath.columns:\n",
    "    weath[i]=weath[i].replace('-',np.nan)"
   ]
  },
  {
   "cell_type": "code",
   "execution_count": 17,
   "metadata": {},
   "outputs": [
    {
     "name": "stdout",
     "output_type": "stream",
     "text": [
      "      Year Month  Day Temp high (°C) Temp avg (°C) Temp low (°C)  \\\n",
      "1826  2014   Jan    1           high           avg           low   \n",
      "\n",
      "     Dew Point high (°C) Dew Point avg (°C) Dew Point low (°C)  \\\n",
      "1826                high                avg                low   \n",
      "\n",
      "     Humidity (%) high  ... Sea Level Press. (hPa) avg  \\\n",
      "1826              high  ...                        avg   \n",
      "\n",
      "     Sea Level Press. (hPa) low Visibility (km) high Visibility (km) avg  \\\n",
      "1826                        low                 high                 avg   \n",
      "\n",
      "     Visibility (km) low Wind (km/h) low Wind (km/h) avg Wind (km/h) high  \\\n",
      "1826                 low             low             avg             high   \n",
      "\n",
      "     Precip. (mm) sum WeatherEvent  \n",
      "1826              sum          NaN  \n",
      "\n",
      "[1 rows x 23 columns]\n"
     ]
    }
   ],
   "source": [
    "print(weath.loc[weath['Wind\\xa0(km/h) high'] == 'high'])"
   ]
  },
  {
   "cell_type": "code",
   "execution_count": 18,
   "metadata": {},
   "outputs": [],
   "source": [
    "weath.drop(weath.index[1826],inplace=True)"
   ]
  },
  {
   "cell_type": "code",
   "execution_count": 19,
   "metadata": {},
   "outputs": [
    {
     "name": "stdout",
     "output_type": "stream",
     "text": [
      "Empty DataFrame\n",
      "Columns: [Year, Month, Day, Temp high (°C), Temp avg (°C), Temp low (°C), Dew Point high (°C), Dew Point avg (°C), Dew Point low (°C), Humidity (%) high, Humidity (%) avg, Humidity (%) low, Sea Level Press. (hPa) high, Sea Level Press. (hPa) avg, Sea Level Press. (hPa) low, Visibility (km) high, Visibility (km) avg, Visibility (km) low, Wind (km/h) low, Wind (km/h) avg, Wind (km/h) high, Precip. (mm) sum, WeatherEvent]\n",
      "Index: []\n",
      "\n",
      "[0 rows x 23 columns]\n"
     ]
    }
   ],
   "source": [
    "print(weath.loc[weath['Wind\\xa0(km/h) high'] == 'high'])"
   ]
  },
  {
   "cell_type": "code",
   "execution_count": 20,
   "metadata": {},
   "outputs": [],
   "source": [
    "weath=weath.drop(['Precip.\\xa0(mm) sum','WeatherEvent'],axis=1)"
   ]
  },
  {
   "cell_type": "code",
   "execution_count": 21,
   "metadata": {},
   "outputs": [],
   "source": [
    "weath['Month']=weath['Month'].replace({'Jan':1,'Feb':2,'Mar':3,'Apr':4,'May':5,'Jun':6,'Jul':7,'Aug':8,\n",
    "                                'Sep':9,'Oct':10,'Nov':11,'Dec':12})"
   ]
  },
  {
   "cell_type": "code",
   "execution_count": 22,
   "metadata": {},
   "outputs": [],
   "source": [
    "weath.dropna(inplace=True)"
   ]
  },
  {
   "cell_type": "code",
   "execution_count": 23,
   "metadata": {},
   "outputs": [],
   "source": [
    "for i in weath.columns:\n",
    "    weath[i]=weath[i].astype(float)"
   ]
  },
  {
   "cell_type": "code",
   "execution_count": 24,
   "metadata": {},
   "outputs": [],
   "source": [
    "weath['Year']=weath['Year'].astype('int64')"
   ]
  },
  {
   "cell_type": "code",
   "execution_count": 25,
   "metadata": {},
   "outputs": [],
   "source": [
    "weath['Month']=weath['Month'].astype('int64')"
   ]
  },
  {
   "cell_type": "code",
   "execution_count": 26,
   "metadata": {
    "cell_style": "split"
   },
   "outputs": [
    {
     "data": {
      "text/plain": [
       "Year                             int64\n",
       "Month                            int64\n",
       "Day                            float64\n",
       "Temp high (°C)                 float64\n",
       "Temp avg (°C)                  float64\n",
       "Temp low (°C)                  float64\n",
       "Dew Point high (°C)            float64\n",
       "Dew Point avg (°C)             float64\n",
       "Dew Point low (°C)             float64\n",
       "Humidity (%) high              float64\n",
       "Humidity (%) avg               float64\n",
       "Humidity (%) low               float64\n",
       "Sea Level Press. (hPa) high    float64\n",
       "Sea Level Press. (hPa) avg     float64\n",
       "Sea Level Press. (hPa) low     float64\n",
       "Visibility (km) high           float64\n",
       "Visibility (km) avg            float64\n",
       "Visibility (km) low            float64\n",
       "Wind (km/h) low                float64\n",
       "Wind (km/h) avg                float64\n",
       "Wind (km/h) high               float64\n",
       "dtype: object"
      ]
     },
     "execution_count": 26,
     "metadata": {},
     "output_type": "execute_result"
    }
   ],
   "source": [
    "weath.dtypes"
   ]
  },
  {
   "cell_type": "code",
   "execution_count": 27,
   "metadata": {
    "cell_style": "split"
   },
   "outputs": [
    {
     "data": {
      "text/plain": [
       "Monthly Nominal GDP Index (inMillion$)                               float64\n",
       "Monthly Real GDP Index (inMillion$)                                  float64\n",
       "CPI                                                                  float64\n",
       "unemployment rate                                                    float64\n",
       "CommercialBankInterestRateonCreditCardPlans                          float64\n",
       "Finance Rate on Personal Loans at Commercial Banks, 24 Month Loan    float64\n",
       "Earnings or wages  in dollars per hour                               float64\n",
       "Cotton Monthly Price - US cents per Pound(lbs)                       float64\n",
       "Change(in%)                                                          float64\n",
       "Average upland planted(million acres)                                float64\n",
       "Average upland harvested(million acres)                              float64\n",
       "yieldperharvested acre                                                 int64\n",
       "Production (in  480-lb netweright in million bales)                  float64\n",
       "Mill use  (in  480-lb netweright in million bales)                   float64\n",
       "Exports                                                              float64\n",
       "Year                                                                   int32\n",
       "Month                                                                  int64\n",
       "dtype: object"
      ]
     },
     "execution_count": 27,
     "metadata": {},
     "output_type": "execute_result"
    }
   ],
   "source": [
    "macro.dtypes"
   ]
  },
  {
   "cell_type": "code",
   "execution_count": 28,
   "metadata": {},
   "outputs": [
    {
     "data": {
      "text/html": [
       "<div>\n",
       "<style scoped>\n",
       "    .dataframe tbody tr th:only-of-type {\n",
       "        vertical-align: middle;\n",
       "    }\n",
       "\n",
       "    .dataframe tbody tr th {\n",
       "        vertical-align: top;\n",
       "    }\n",
       "\n",
       "    .dataframe thead th {\n",
       "        text-align: right;\n",
       "    }\n",
       "</style>\n",
       "<table border=\"1\" class=\"dataframe\">\n",
       "  <thead>\n",
       "    <tr style=\"text-align: right;\">\n",
       "      <th></th>\n",
       "      <th>Year</th>\n",
       "      <th>Month</th>\n",
       "      <th>Day</th>\n",
       "      <th>Temp high (°C)</th>\n",
       "      <th>Temp avg (°C)</th>\n",
       "      <th>Temp low (°C)</th>\n",
       "      <th>Dew Point high (°C)</th>\n",
       "      <th>Dew Point avg (°C)</th>\n",
       "      <th>Dew Point low (°C)</th>\n",
       "      <th>Humidity (%) high</th>\n",
       "      <th>...</th>\n",
       "      <th>Humidity (%) low</th>\n",
       "      <th>Sea Level Press. (hPa) high</th>\n",
       "      <th>Sea Level Press. (hPa) avg</th>\n",
       "      <th>Sea Level Press. (hPa) low</th>\n",
       "      <th>Visibility (km) high</th>\n",
       "      <th>Visibility (km) avg</th>\n",
       "      <th>Visibility (km) low</th>\n",
       "      <th>Wind (km/h) low</th>\n",
       "      <th>Wind (km/h) avg</th>\n",
       "      <th>Wind (km/h) high</th>\n",
       "    </tr>\n",
       "  </thead>\n",
       "  <tbody>\n",
       "    <tr>\n",
       "      <td>0</td>\n",
       "      <td>2009</td>\n",
       "      <td>1</td>\n",
       "      <td>1.0</td>\n",
       "      <td>-3.0</td>\n",
       "      <td>-6.0</td>\n",
       "      <td>-9.0</td>\n",
       "      <td>-16.0</td>\n",
       "      <td>-17.0</td>\n",
       "      <td>-19.0</td>\n",
       "      <td>54.0</td>\n",
       "      <td>...</td>\n",
       "      <td>32.0</td>\n",
       "      <td>1025.0</td>\n",
       "      <td>1023.0</td>\n",
       "      <td>1015.0</td>\n",
       "      <td>16.0</td>\n",
       "      <td>16.0</td>\n",
       "      <td>16.0</td>\n",
       "      <td>37.0</td>\n",
       "      <td>18.0</td>\n",
       "      <td>60.0</td>\n",
       "    </tr>\n",
       "    <tr>\n",
       "      <td>1</td>\n",
       "      <td>2009</td>\n",
       "      <td>1</td>\n",
       "      <td>2.0</td>\n",
       "      <td>1.0</td>\n",
       "      <td>-2.0</td>\n",
       "      <td>-5.0</td>\n",
       "      <td>-3.0</td>\n",
       "      <td>-7.0</td>\n",
       "      <td>-17.0</td>\n",
       "      <td>78.0</td>\n",
       "      <td>...</td>\n",
       "      <td>36.0</td>\n",
       "      <td>1022.0</td>\n",
       "      <td>1012.0</td>\n",
       "      <td>1007.0</td>\n",
       "      <td>16.0</td>\n",
       "      <td>13.0</td>\n",
       "      <td>2.0</td>\n",
       "      <td>27.0</td>\n",
       "      <td>10.0</td>\n",
       "      <td>48.0</td>\n",
       "    </tr>\n",
       "    <tr>\n",
       "      <td>2</td>\n",
       "      <td>2009</td>\n",
       "      <td>1</td>\n",
       "      <td>3.0</td>\n",
       "      <td>3.0</td>\n",
       "      <td>1.0</td>\n",
       "      <td>-2.0</td>\n",
       "      <td>-5.0</td>\n",
       "      <td>-9.0</td>\n",
       "      <td>-13.0</td>\n",
       "      <td>72.0</td>\n",
       "      <td>...</td>\n",
       "      <td>35.0</td>\n",
       "      <td>1018.0</td>\n",
       "      <td>1015.0</td>\n",
       "      <td>1008.0</td>\n",
       "      <td>16.0</td>\n",
       "      <td>16.0</td>\n",
       "      <td>16.0</td>\n",
       "      <td>27.0</td>\n",
       "      <td>16.0</td>\n",
       "      <td>42.0</td>\n",
       "    </tr>\n",
       "    <tr>\n",
       "      <td>3</td>\n",
       "      <td>2009</td>\n",
       "      <td>1</td>\n",
       "      <td>4.0</td>\n",
       "      <td>6.0</td>\n",
       "      <td>1.0</td>\n",
       "      <td>-4.0</td>\n",
       "      <td>-10.0</td>\n",
       "      <td>-12.0</td>\n",
       "      <td>-13.0</td>\n",
       "      <td>55.0</td>\n",
       "      <td>...</td>\n",
       "      <td>29.0</td>\n",
       "      <td>1020.0</td>\n",
       "      <td>1017.0</td>\n",
       "      <td>1015.0</td>\n",
       "      <td>16.0</td>\n",
       "      <td>16.0</td>\n",
       "      <td>16.0</td>\n",
       "      <td>32.0</td>\n",
       "      <td>12.0</td>\n",
       "      <td>40.0</td>\n",
       "    </tr>\n",
       "    <tr>\n",
       "      <td>4</td>\n",
       "      <td>2009</td>\n",
       "      <td>1</td>\n",
       "      <td>5.0</td>\n",
       "      <td>6.0</td>\n",
       "      <td>5.0</td>\n",
       "      <td>3.0</td>\n",
       "      <td>-1.0</td>\n",
       "      <td>-5.0</td>\n",
       "      <td>-16.0</td>\n",
       "      <td>62.0</td>\n",
       "      <td>...</td>\n",
       "      <td>33.0</td>\n",
       "      <td>1016.0</td>\n",
       "      <td>1014.0</td>\n",
       "      <td>1013.0</td>\n",
       "      <td>16.0</td>\n",
       "      <td>16.0</td>\n",
       "      <td>16.0</td>\n",
       "      <td>23.0</td>\n",
       "      <td>11.0</td>\n",
       "      <td>34.0</td>\n",
       "    </tr>\n",
       "  </tbody>\n",
       "</table>\n",
       "<p>5 rows × 21 columns</p>\n",
       "</div>"
      ],
      "text/plain": [
       "   Year  Month  Day  Temp high (°C)  Temp avg (°C)  Temp low (°C)  \\\n",
       "0  2009      1  1.0            -3.0           -6.0           -9.0   \n",
       "1  2009      1  2.0             1.0           -2.0           -5.0   \n",
       "2  2009      1  3.0             3.0            1.0           -2.0   \n",
       "3  2009      1  4.0             6.0            1.0           -4.0   \n",
       "4  2009      1  5.0             6.0            5.0            3.0   \n",
       "\n",
       "   Dew Point high (°C)  Dew Point avg (°C)  Dew Point low (°C)  \\\n",
       "0                -16.0               -17.0               -19.0   \n",
       "1                 -3.0                -7.0               -17.0   \n",
       "2                 -5.0                -9.0               -13.0   \n",
       "3                -10.0               -12.0               -13.0   \n",
       "4                 -1.0                -5.0               -16.0   \n",
       "\n",
       "   Humidity (%) high  ...  Humidity (%) low  Sea Level Press. (hPa) high  \\\n",
       "0               54.0  ...              32.0                       1025.0   \n",
       "1               78.0  ...              36.0                       1022.0   \n",
       "2               72.0  ...              35.0                       1018.0   \n",
       "3               55.0  ...              29.0                       1020.0   \n",
       "4               62.0  ...              33.0                       1016.0   \n",
       "\n",
       "   Sea Level Press. (hPa) avg  Sea Level Press. (hPa) low  \\\n",
       "0                      1023.0                      1015.0   \n",
       "1                      1012.0                      1007.0   \n",
       "2                      1015.0                      1008.0   \n",
       "3                      1017.0                      1015.0   \n",
       "4                      1014.0                      1013.0   \n",
       "\n",
       "   Visibility (km) high  Visibility (km) avg  Visibility (km) low  \\\n",
       "0                  16.0                 16.0                 16.0   \n",
       "1                  16.0                 13.0                  2.0   \n",
       "2                  16.0                 16.0                 16.0   \n",
       "3                  16.0                 16.0                 16.0   \n",
       "4                  16.0                 16.0                 16.0   \n",
       "\n",
       "   Wind (km/h) low  Wind (km/h) avg  Wind (km/h) high  \n",
       "0             37.0             18.0              60.0  \n",
       "1             27.0             10.0              48.0  \n",
       "2             27.0             16.0              42.0  \n",
       "3             32.0             12.0              40.0  \n",
       "4             23.0             11.0              34.0  \n",
       "\n",
       "[5 rows x 21 columns]"
      ]
     },
     "execution_count": 28,
     "metadata": {},
     "output_type": "execute_result"
    }
   ],
   "source": [
    "weath.head()"
   ]
  },
  {
   "cell_type": "code",
   "execution_count": 29,
   "metadata": {},
   "outputs": [
    {
     "data": {
      "text/plain": [
       "2013    364\n",
       "2009    361\n",
       "2010    360\n",
       "2012    357\n",
       "2016    353\n",
       "2015    352\n",
       "2011    352\n",
       "2014    350\n",
       "Name: Year, dtype: int64"
      ]
     },
     "execution_count": 29,
     "metadata": {},
     "output_type": "execute_result"
    }
   ],
   "source": [
    "weath['Year'].value_counts()"
   ]
  },
  {
   "cell_type": "code",
   "execution_count": 30,
   "metadata": {},
   "outputs": [],
   "source": [
    "y1 = weath[weath[\"Year\"]== 2009]\n",
    "y1_V = y1.groupby(\"Month\", as_index=False).agg(\"mean\")\n",
    "y2 = weath[weath[\"Year\"]== 2010]\n",
    "y2_V = y2.groupby(\"Month\", as_index=False).agg(\"mean\")\n",
    "y3 = weath[weath[\"Year\"]== 2011]\n",
    "y3_V = y3.groupby(\"Month\", as_index=False).agg(\"mean\")\n",
    "y4 = weath[weath[\"Year\"]== 2012]\n",
    "y4_V = y4.groupby(\"Month\", as_index=False).agg(\"mean\")\n",
    "y5 = weath[weath[\"Year\"]== 2013]\n",
    "y5_V = y5.groupby(\"Month\", as_index=False).agg(\"mean\")\n",
    "y6 = weath[weath[\"Year\"]== 2014]\n",
    "y6_V = y6.groupby(\"Month\", as_index=False).agg(\"mean\")\n",
    "y7 = weath[weath[\"Year\"]== 2015]\n",
    "y7_V = y7.groupby(\"Month\", as_index=False).agg(\"mean\")\n",
    "y8 = weath[weath[\"Year\"]== 2016]\n",
    "y8_V = y8.groupby(\"Month\", as_index=False).agg(\"mean\")"
   ]
  },
  {
   "cell_type": "code",
   "execution_count": 31,
   "metadata": {},
   "outputs": [],
   "source": [
    "weath=pd.concat([y1_V,y2_V,y3_V,y4_V,y5_V,y6_V,y7_V,y8_V])"
   ]
  },
  {
   "cell_type": "code",
   "execution_count": 32,
   "metadata": {},
   "outputs": [],
   "source": [
    "weath=weath.drop('Day',axis=1)"
   ]
  },
  {
   "cell_type": "code",
   "execution_count": 33,
   "metadata": {},
   "outputs": [],
   "source": [
    "train['Datatype']='train'\n",
    "test['Datatype']='test'"
   ]
  },
  {
   "cell_type": "code",
   "execution_count": 34,
   "metadata": {},
   "outputs": [],
   "source": [
    "#test=test[train.columns]\n",
    "d1=pd.concat([train,test],axis=0)"
   ]
  },
  {
   "cell_type": "code",
   "execution_count": 35,
   "metadata": {},
   "outputs": [
    {
     "data": {
      "text/html": [
       "<div>\n",
       "<style scoped>\n",
       "    .dataframe tbody tr th:only-of-type {\n",
       "        vertical-align: middle;\n",
       "    }\n",
       "\n",
       "    .dataframe tbody tr th {\n",
       "        vertical-align: top;\n",
       "    }\n",
       "\n",
       "    .dataframe thead th {\n",
       "        text-align: right;\n",
       "    }\n",
       "</style>\n",
       "<table border=\"1\" class=\"dataframe\">\n",
       "  <thead>\n",
       "    <tr style=\"text-align: right;\">\n",
       "      <th></th>\n",
       "      <th>Year</th>\n",
       "      <th>Month</th>\n",
       "      <th>ProductCategory</th>\n",
       "      <th>Sales(In ThousandDollars)</th>\n",
       "      <th>Datatype</th>\n",
       "    </tr>\n",
       "  </thead>\n",
       "  <tbody>\n",
       "    <tr>\n",
       "      <td>0</td>\n",
       "      <td>2009</td>\n",
       "      <td>1</td>\n",
       "      <td>WomenClothing</td>\n",
       "      <td>1755.0</td>\n",
       "      <td>train</td>\n",
       "    </tr>\n",
       "    <tr>\n",
       "      <td>1</td>\n",
       "      <td>2009</td>\n",
       "      <td>1</td>\n",
       "      <td>MenClothing</td>\n",
       "      <td>524.0</td>\n",
       "      <td>train</td>\n",
       "    </tr>\n",
       "  </tbody>\n",
       "</table>\n",
       "</div>"
      ],
      "text/plain": [
       "   Year  Month ProductCategory  Sales(In ThousandDollars) Datatype\n",
       "0  2009      1   WomenClothing                     1755.0    train\n",
       "1  2009      1     MenClothing                      524.0    train"
      ]
     },
     "execution_count": 35,
     "metadata": {},
     "output_type": "execute_result"
    }
   ],
   "source": [
    "d1.head(2)"
   ]
  },
  {
   "cell_type": "code",
   "execution_count": 36,
   "metadata": {},
   "outputs": [
    {
     "data": {
      "text/plain": [
       "(252, 5)"
      ]
     },
     "execution_count": 36,
     "metadata": {},
     "output_type": "execute_result"
    }
   ],
   "source": [
    "d1.shape"
   ]
  },
  {
   "cell_type": "code",
   "execution_count": 37,
   "metadata": {},
   "outputs": [],
   "source": [
    "d1['ProductCategory']=d1['ProductCategory'].replace(['MenClothing','WomenClothing','OtherClothing'],[1,2,3])"
   ]
  },
  {
   "cell_type": "code",
   "execution_count": 38,
   "metadata": {},
   "outputs": [],
   "source": [
    "d2=pd.merge(d1,macro)"
   ]
  },
  {
   "cell_type": "code",
   "execution_count": 39,
   "metadata": {},
   "outputs": [
    {
     "data": {
      "text/html": [
       "<div>\n",
       "<style scoped>\n",
       "    .dataframe tbody tr th:only-of-type {\n",
       "        vertical-align: middle;\n",
       "    }\n",
       "\n",
       "    .dataframe tbody tr th {\n",
       "        vertical-align: top;\n",
       "    }\n",
       "\n",
       "    .dataframe thead th {\n",
       "        text-align: right;\n",
       "    }\n",
       "</style>\n",
       "<table border=\"1\" class=\"dataframe\">\n",
       "  <thead>\n",
       "    <tr style=\"text-align: right;\">\n",
       "      <th></th>\n",
       "      <th>Year</th>\n",
       "      <th>Month</th>\n",
       "      <th>ProductCategory</th>\n",
       "      <th>Sales(In ThousandDollars)</th>\n",
       "      <th>Datatype</th>\n",
       "      <th>Monthly Nominal GDP Index (inMillion$)</th>\n",
       "      <th>Monthly Real GDP Index (inMillion$)</th>\n",
       "      <th>CPI</th>\n",
       "      <th>unemployment rate</th>\n",
       "      <th>CommercialBankInterestRateonCreditCardPlans</th>\n",
       "      <th>Finance Rate on Personal Loans at Commercial Banks, 24 Month Loan</th>\n",
       "      <th>Earnings or wages  in dollars per hour</th>\n",
       "      <th>Cotton Monthly Price - US cents per Pound(lbs)</th>\n",
       "      <th>Change(in%)</th>\n",
       "      <th>Average upland planted(million acres)</th>\n",
       "      <th>Average upland harvested(million acres)</th>\n",
       "      <th>yieldperharvested acre</th>\n",
       "      <th>Production (in  480-lb netweright in million bales)</th>\n",
       "      <th>Mill use  (in  480-lb netweright in million bales)</th>\n",
       "      <th>Exports</th>\n",
       "    </tr>\n",
       "  </thead>\n",
       "  <tbody>\n",
       "    <tr>\n",
       "      <td>0</td>\n",
       "      <td>2009</td>\n",
       "      <td>1</td>\n",
       "      <td>2</td>\n",
       "      <td>1755.0</td>\n",
       "      <td>train</td>\n",
       "      <td>14421.752895</td>\n",
       "      <td>14407.053343</td>\n",
       "      <td>233.402</td>\n",
       "      <td>7.8</td>\n",
       "      <td>12.03</td>\n",
       "      <td>11.44</td>\n",
       "      <td>22.05</td>\n",
       "      <td>57.70</td>\n",
       "      <td>4.02</td>\n",
       "      <td>9.296</td>\n",
       "      <td>7.559</td>\n",
       "      <td>799</td>\n",
       "      <td>12.589</td>\n",
       "      <td>4.17</td>\n",
       "      <td>11.55</td>\n",
       "    </tr>\n",
       "    <tr>\n",
       "      <td>1</td>\n",
       "      <td>2009</td>\n",
       "      <td>1</td>\n",
       "      <td>1</td>\n",
       "      <td>524.0</td>\n",
       "      <td>train</td>\n",
       "      <td>14421.752895</td>\n",
       "      <td>14407.053343</td>\n",
       "      <td>233.402</td>\n",
       "      <td>7.8</td>\n",
       "      <td>12.03</td>\n",
       "      <td>11.44</td>\n",
       "      <td>22.05</td>\n",
       "      <td>57.70</td>\n",
       "      <td>4.02</td>\n",
       "      <td>9.296</td>\n",
       "      <td>7.559</td>\n",
       "      <td>799</td>\n",
       "      <td>12.589</td>\n",
       "      <td>4.17</td>\n",
       "      <td>11.55</td>\n",
       "    </tr>\n",
       "    <tr>\n",
       "      <td>2</td>\n",
       "      <td>2009</td>\n",
       "      <td>1</td>\n",
       "      <td>3</td>\n",
       "      <td>936.0</td>\n",
       "      <td>train</td>\n",
       "      <td>14421.752895</td>\n",
       "      <td>14407.053343</td>\n",
       "      <td>233.402</td>\n",
       "      <td>7.8</td>\n",
       "      <td>12.03</td>\n",
       "      <td>11.44</td>\n",
       "      <td>22.05</td>\n",
       "      <td>57.70</td>\n",
       "      <td>4.02</td>\n",
       "      <td>9.296</td>\n",
       "      <td>7.559</td>\n",
       "      <td>799</td>\n",
       "      <td>12.589</td>\n",
       "      <td>4.17</td>\n",
       "      <td>11.55</td>\n",
       "    </tr>\n",
       "    <tr>\n",
       "      <td>3</td>\n",
       "      <td>2009</td>\n",
       "      <td>2</td>\n",
       "      <td>2</td>\n",
       "      <td>1729.0</td>\n",
       "      <td>train</td>\n",
       "      <td>14389.200466</td>\n",
       "      <td>14366.176571</td>\n",
       "      <td>234.663</td>\n",
       "      <td>8.3</td>\n",
       "      <td>12.97</td>\n",
       "      <td>11.05</td>\n",
       "      <td>22.22</td>\n",
       "      <td>55.21</td>\n",
       "      <td>-4.32</td>\n",
       "      <td>9.296</td>\n",
       "      <td>7.559</td>\n",
       "      <td>799</td>\n",
       "      <td>12.589</td>\n",
       "      <td>3.87</td>\n",
       "      <td>11.10</td>\n",
       "    </tr>\n",
       "    <tr>\n",
       "      <td>4</td>\n",
       "      <td>2009</td>\n",
       "      <td>2</td>\n",
       "      <td>1</td>\n",
       "      <td>496.0</td>\n",
       "      <td>train</td>\n",
       "      <td>14389.200466</td>\n",
       "      <td>14366.176571</td>\n",
       "      <td>234.663</td>\n",
       "      <td>8.3</td>\n",
       "      <td>12.97</td>\n",
       "      <td>11.05</td>\n",
       "      <td>22.22</td>\n",
       "      <td>55.21</td>\n",
       "      <td>-4.32</td>\n",
       "      <td>9.296</td>\n",
       "      <td>7.559</td>\n",
       "      <td>799</td>\n",
       "      <td>12.589</td>\n",
       "      <td>3.87</td>\n",
       "      <td>11.10</td>\n",
       "    </tr>\n",
       "  </tbody>\n",
       "</table>\n",
       "</div>"
      ],
      "text/plain": [
       "   Year  Month  ProductCategory  Sales(In ThousandDollars) Datatype  \\\n",
       "0  2009      1                2                     1755.0    train   \n",
       "1  2009      1                1                      524.0    train   \n",
       "2  2009      1                3                      936.0    train   \n",
       "3  2009      2                2                     1729.0    train   \n",
       "4  2009      2                1                      496.0    train   \n",
       "\n",
       "   Monthly Nominal GDP Index (inMillion$)  \\\n",
       "0                            14421.752895   \n",
       "1                            14421.752895   \n",
       "2                            14421.752895   \n",
       "3                            14389.200466   \n",
       "4                            14389.200466   \n",
       "\n",
       "   Monthly Real GDP Index (inMillion$)      CPI  unemployment rate  \\\n",
       "0                         14407.053343  233.402                7.8   \n",
       "1                         14407.053343  233.402                7.8   \n",
       "2                         14407.053343  233.402                7.8   \n",
       "3                         14366.176571  234.663                8.3   \n",
       "4                         14366.176571  234.663                8.3   \n",
       "\n",
       "   CommercialBankInterestRateonCreditCardPlans  \\\n",
       "0                                        12.03   \n",
       "1                                        12.03   \n",
       "2                                        12.03   \n",
       "3                                        12.97   \n",
       "4                                        12.97   \n",
       "\n",
       "   Finance Rate on Personal Loans at Commercial Banks, 24 Month Loan  \\\n",
       "0                                              11.44                   \n",
       "1                                              11.44                   \n",
       "2                                              11.44                   \n",
       "3                                              11.05                   \n",
       "4                                              11.05                   \n",
       "\n",
       "   Earnings or wages  in dollars per hour  \\\n",
       "0                                   22.05   \n",
       "1                                   22.05   \n",
       "2                                   22.05   \n",
       "3                                   22.22   \n",
       "4                                   22.22   \n",
       "\n",
       "   Cotton Monthly Price - US cents per Pound(lbs)  Change(in%)  \\\n",
       "0                                           57.70         4.02   \n",
       "1                                           57.70         4.02   \n",
       "2                                           57.70         4.02   \n",
       "3                                           55.21        -4.32   \n",
       "4                                           55.21        -4.32   \n",
       "\n",
       "   Average upland planted(million acres)  \\\n",
       "0                                  9.296   \n",
       "1                                  9.296   \n",
       "2                                  9.296   \n",
       "3                                  9.296   \n",
       "4                                  9.296   \n",
       "\n",
       "   Average upland harvested(million acres)  yieldperharvested acre  \\\n",
       "0                                    7.559                     799   \n",
       "1                                    7.559                     799   \n",
       "2                                    7.559                     799   \n",
       "3                                    7.559                     799   \n",
       "4                                    7.559                     799   \n",
       "\n",
       "   Production (in  480-lb netweright in million bales)  \\\n",
       "0                                             12.589     \n",
       "1                                             12.589     \n",
       "2                                             12.589     \n",
       "3                                             12.589     \n",
       "4                                             12.589     \n",
       "\n",
       "   Mill use  (in  480-lb netweright in million bales)  Exports  \n",
       "0                                               4.17     11.55  \n",
       "1                                               4.17     11.55  \n",
       "2                                               4.17     11.55  \n",
       "3                                               3.87     11.10  \n",
       "4                                               3.87     11.10  "
      ]
     },
     "execution_count": 39,
     "metadata": {},
     "output_type": "execute_result"
    }
   ],
   "source": [
    "d2.head()"
   ]
  },
  {
   "cell_type": "code",
   "execution_count": 40,
   "metadata": {},
   "outputs": [],
   "source": [
    "df=pd.merge(d2,weath)"
   ]
  },
  {
   "cell_type": "code",
   "execution_count": 41,
   "metadata": {},
   "outputs": [
    {
     "data": {
      "text/html": [
       "<div>\n",
       "<style scoped>\n",
       "    .dataframe tbody tr th:only-of-type {\n",
       "        vertical-align: middle;\n",
       "    }\n",
       "\n",
       "    .dataframe tbody tr th {\n",
       "        vertical-align: top;\n",
       "    }\n",
       "\n",
       "    .dataframe thead th {\n",
       "        text-align: right;\n",
       "    }\n",
       "</style>\n",
       "<table border=\"1\" class=\"dataframe\">\n",
       "  <thead>\n",
       "    <tr style=\"text-align: right;\">\n",
       "      <th></th>\n",
       "      <th>Year</th>\n",
       "      <th>Month</th>\n",
       "      <th>ProductCategory</th>\n",
       "      <th>Sales(In ThousandDollars)</th>\n",
       "      <th>Datatype</th>\n",
       "      <th>Monthly Nominal GDP Index (inMillion$)</th>\n",
       "      <th>Monthly Real GDP Index (inMillion$)</th>\n",
       "      <th>CPI</th>\n",
       "      <th>unemployment rate</th>\n",
       "      <th>CommercialBankInterestRateonCreditCardPlans</th>\n",
       "      <th>...</th>\n",
       "      <th>Humidity (%) low</th>\n",
       "      <th>Sea Level Press. (hPa) high</th>\n",
       "      <th>Sea Level Press. (hPa) avg</th>\n",
       "      <th>Sea Level Press. (hPa) low</th>\n",
       "      <th>Visibility (km) high</th>\n",
       "      <th>Visibility (km) avg</th>\n",
       "      <th>Visibility (km) low</th>\n",
       "      <th>Wind (km/h) low</th>\n",
       "      <th>Wind (km/h) avg</th>\n",
       "      <th>Wind (km/h) high</th>\n",
       "    </tr>\n",
       "  </thead>\n",
       "  <tbody>\n",
       "    <tr>\n",
       "      <td>0</td>\n",
       "      <td>2009</td>\n",
       "      <td>1</td>\n",
       "      <td>2</td>\n",
       "      <td>1755.0</td>\n",
       "      <td>train</td>\n",
       "      <td>14421.752895</td>\n",
       "      <td>14407.053343</td>\n",
       "      <td>233.402</td>\n",
       "      <td>7.8</td>\n",
       "      <td>12.03</td>\n",
       "      <td>...</td>\n",
       "      <td>42.322581</td>\n",
       "      <td>1021.290323</td>\n",
       "      <td>1015.967742</td>\n",
       "      <td>1010.516129</td>\n",
       "      <td>16.0</td>\n",
       "      <td>14.000000</td>\n",
       "      <td>11.451613</td>\n",
       "      <td>27.000000</td>\n",
       "      <td>12.000000</td>\n",
       "      <td>39.322581</td>\n",
       "    </tr>\n",
       "    <tr>\n",
       "      <td>1</td>\n",
       "      <td>2009</td>\n",
       "      <td>1</td>\n",
       "      <td>1</td>\n",
       "      <td>524.0</td>\n",
       "      <td>train</td>\n",
       "      <td>14421.752895</td>\n",
       "      <td>14407.053343</td>\n",
       "      <td>233.402</td>\n",
       "      <td>7.8</td>\n",
       "      <td>12.03</td>\n",
       "      <td>...</td>\n",
       "      <td>42.322581</td>\n",
       "      <td>1021.290323</td>\n",
       "      <td>1015.967742</td>\n",
       "      <td>1010.516129</td>\n",
       "      <td>16.0</td>\n",
       "      <td>14.000000</td>\n",
       "      <td>11.451613</td>\n",
       "      <td>27.000000</td>\n",
       "      <td>12.000000</td>\n",
       "      <td>39.322581</td>\n",
       "    </tr>\n",
       "    <tr>\n",
       "      <td>2</td>\n",
       "      <td>2009</td>\n",
       "      <td>1</td>\n",
       "      <td>3</td>\n",
       "      <td>936.0</td>\n",
       "      <td>train</td>\n",
       "      <td>14421.752895</td>\n",
       "      <td>14407.053343</td>\n",
       "      <td>233.402</td>\n",
       "      <td>7.8</td>\n",
       "      <td>12.03</td>\n",
       "      <td>...</td>\n",
       "      <td>42.322581</td>\n",
       "      <td>1021.290323</td>\n",
       "      <td>1015.967742</td>\n",
       "      <td>1010.516129</td>\n",
       "      <td>16.0</td>\n",
       "      <td>14.000000</td>\n",
       "      <td>11.451613</td>\n",
       "      <td>27.000000</td>\n",
       "      <td>12.000000</td>\n",
       "      <td>39.322581</td>\n",
       "    </tr>\n",
       "    <tr>\n",
       "      <td>3</td>\n",
       "      <td>2009</td>\n",
       "      <td>2</td>\n",
       "      <td>2</td>\n",
       "      <td>1729.0</td>\n",
       "      <td>train</td>\n",
       "      <td>14389.200466</td>\n",
       "      <td>14366.176571</td>\n",
       "      <td>234.663</td>\n",
       "      <td>8.3</td>\n",
       "      <td>12.97</td>\n",
       "      <td>...</td>\n",
       "      <td>38.107143</td>\n",
       "      <td>1021.714286</td>\n",
       "      <td>1017.071429</td>\n",
       "      <td>1012.464286</td>\n",
       "      <td>16.0</td>\n",
       "      <td>15.178571</td>\n",
       "      <td>13.285714</td>\n",
       "      <td>27.928571</td>\n",
       "      <td>12.214286</td>\n",
       "      <td>41.642857</td>\n",
       "    </tr>\n",
       "    <tr>\n",
       "      <td>4</td>\n",
       "      <td>2009</td>\n",
       "      <td>2</td>\n",
       "      <td>1</td>\n",
       "      <td>496.0</td>\n",
       "      <td>train</td>\n",
       "      <td>14389.200466</td>\n",
       "      <td>14366.176571</td>\n",
       "      <td>234.663</td>\n",
       "      <td>8.3</td>\n",
       "      <td>12.97</td>\n",
       "      <td>...</td>\n",
       "      <td>38.107143</td>\n",
       "      <td>1021.714286</td>\n",
       "      <td>1017.071429</td>\n",
       "      <td>1012.464286</td>\n",
       "      <td>16.0</td>\n",
       "      <td>15.178571</td>\n",
       "      <td>13.285714</td>\n",
       "      <td>27.928571</td>\n",
       "      <td>12.214286</td>\n",
       "      <td>41.642857</td>\n",
       "    </tr>\n",
       "  </tbody>\n",
       "</table>\n",
       "<p>5 rows × 38 columns</p>\n",
       "</div>"
      ],
      "text/plain": [
       "   Year  Month  ProductCategory  Sales(In ThousandDollars) Datatype  \\\n",
       "0  2009      1                2                     1755.0    train   \n",
       "1  2009      1                1                      524.0    train   \n",
       "2  2009      1                3                      936.0    train   \n",
       "3  2009      2                2                     1729.0    train   \n",
       "4  2009      2                1                      496.0    train   \n",
       "\n",
       "   Monthly Nominal GDP Index (inMillion$)  \\\n",
       "0                            14421.752895   \n",
       "1                            14421.752895   \n",
       "2                            14421.752895   \n",
       "3                            14389.200466   \n",
       "4                            14389.200466   \n",
       "\n",
       "   Monthly Real GDP Index (inMillion$)      CPI  unemployment rate  \\\n",
       "0                         14407.053343  233.402                7.8   \n",
       "1                         14407.053343  233.402                7.8   \n",
       "2                         14407.053343  233.402                7.8   \n",
       "3                         14366.176571  234.663                8.3   \n",
       "4                         14366.176571  234.663                8.3   \n",
       "\n",
       "   CommercialBankInterestRateonCreditCardPlans  ...  Humidity (%) low  \\\n",
       "0                                        12.03  ...         42.322581   \n",
       "1                                        12.03  ...         42.322581   \n",
       "2                                        12.03  ...         42.322581   \n",
       "3                                        12.97  ...         38.107143   \n",
       "4                                        12.97  ...         38.107143   \n",
       "\n",
       "   Sea Level Press. (hPa) high  Sea Level Press. (hPa) avg  \\\n",
       "0                  1021.290323                 1015.967742   \n",
       "1                  1021.290323                 1015.967742   \n",
       "2                  1021.290323                 1015.967742   \n",
       "3                  1021.714286                 1017.071429   \n",
       "4                  1021.714286                 1017.071429   \n",
       "\n",
       "   Sea Level Press. (hPa) low  Visibility (km) high  Visibility (km) avg  \\\n",
       "0                 1010.516129                  16.0            14.000000   \n",
       "1                 1010.516129                  16.0            14.000000   \n",
       "2                 1010.516129                  16.0            14.000000   \n",
       "3                 1012.464286                  16.0            15.178571   \n",
       "4                 1012.464286                  16.0            15.178571   \n",
       "\n",
       "   Visibility (km) low  Wind (km/h) low  Wind (km/h) avg  Wind (km/h) high  \n",
       "0            11.451613        27.000000        12.000000         39.322581  \n",
       "1            11.451613        27.000000        12.000000         39.322581  \n",
       "2            11.451613        27.000000        12.000000         39.322581  \n",
       "3            13.285714        27.928571        12.214286         41.642857  \n",
       "4            13.285714        27.928571        12.214286         41.642857  \n",
       "\n",
       "[5 rows x 38 columns]"
      ]
     },
     "execution_count": 41,
     "metadata": {},
     "output_type": "execute_result"
    }
   ],
   "source": [
    "df.head()"
   ]
  },
  {
   "cell_type": "code",
   "execution_count": 42,
   "metadata": {},
   "outputs": [
    {
     "data": {
      "text/plain": [
       "(252, 38)"
      ]
     },
     "execution_count": 42,
     "metadata": {},
     "output_type": "execute_result"
    }
   ],
   "source": [
    "df.shape"
   ]
  },
  {
   "cell_type": "code",
   "execution_count": 43,
   "metadata": {},
   "outputs": [],
   "source": [
    "df=pd.get_dummies(data=df, columns=['Month', 'ProductCategory'])"
   ]
  },
  {
   "cell_type": "code",
   "execution_count": 44,
   "metadata": {},
   "outputs": [
    {
     "data": {
      "text/plain": [
       "Index(['Year', 'Sales(In ThousandDollars)', 'Datatype',\n",
       "       'Monthly Nominal GDP Index (inMillion$)',\n",
       "       'Monthly Real GDP Index (inMillion$)', 'CPI', 'unemployment rate',\n",
       "       'CommercialBankInterestRateonCreditCardPlans',\n",
       "       'Finance Rate on Personal Loans at Commercial Banks, 24 Month Loan',\n",
       "       'Earnings or wages  in dollars per hour',\n",
       "       'Cotton Monthly Price - US cents per Pound(lbs)', 'Change(in%)',\n",
       "       'Average upland planted(million acres)',\n",
       "       'Average upland harvested(million acres)', 'yieldperharvested acre',\n",
       "       'Production (in  480-lb netweright in million bales)',\n",
       "       'Mill use  (in  480-lb netweright in million bales)', 'Exports',\n",
       "       'Temp high (°C)', 'Temp avg (°C)', 'Temp low (°C)',\n",
       "       'Dew Point high (°C)', 'Dew Point avg (°C)', 'Dew Point low (°C)',\n",
       "       'Humidity (%) high', 'Humidity (%) avg', 'Humidity (%) low',\n",
       "       'Sea Level Press. (hPa) high', 'Sea Level Press. (hPa) avg',\n",
       "       'Sea Level Press. (hPa) low', 'Visibility (km) high',\n",
       "       'Visibility (km) avg', 'Visibility (km) low', 'Wind (km/h) low',\n",
       "       'Wind (km/h) avg', 'Wind (km/h) high', 'Month_1', 'Month_2', 'Month_3',\n",
       "       'Month_4', 'Month_5', 'Month_6', 'Month_7', 'Month_8', 'Month_9',\n",
       "       'Month_10', 'Month_11', 'Month_12', 'ProductCategory_1',\n",
       "       'ProductCategory_2', 'ProductCategory_3'],\n",
       "      dtype='object')"
      ]
     },
     "execution_count": 44,
     "metadata": {},
     "output_type": "execute_result"
    }
   ],
   "source": [
    "df.columns"
   ]
  },
  {
   "cell_type": "code",
   "execution_count": null,
   "metadata": {},
   "outputs": [],
   "source": [
    "d = d.drop(['Temp high (°C)'],axis=1)\n",
    "d = d.drop(['Temp low (°C)'],axis=1)\n",
    "d = d.drop(['Dew Point high (°C)'],axis=1)\n",
    "d = d.drop(['Dew Point low (°C)'],axis=1)\n",
    "d = d.drop(['Humidity (%) high'],axis=1)\n",
    "d = d.drop(['Humidity (%) low'],axis=1)\n",
    "d = d.drop(['Visibility (km) high'],axis=1)\n",
    "d = d.drop(['Visibility (km) low'],axis=1)\n",
    "d = d.drop(['Wind (km/h) high'],axis=1)\n",
    "d = d.drop(['Wind (km/h) low'],axis=1)\n",
    "d = d.drop(['Sea Level Press. (hPa) high'],axis=1)\n",
    "d = d.drop(['Sea Level Press. (hPa) low'],axis=1)"
   ]
  },
  {
   "cell_type": "code",
   "execution_count": 45,
   "metadata": {},
   "outputs": [],
   "source": [
    "df_train=df[df['Datatype']=='train']\n",
    "del df_train['Datatype']\n",
    "df_test=df[df['Datatype']=='test']\n",
    "df_test.drop(['Datatype'],axis=1,inplace=True)"
   ]
  },
  {
   "cell_type": "code",
   "execution_count": 46,
   "metadata": {},
   "outputs": [],
   "source": [
    "del df"
   ]
  },
  {
   "cell_type": "code",
   "execution_count": 47,
   "metadata": {},
   "outputs": [],
   "source": [
    "df_train['Sales(In ThousandDollars)']=df_train['Sales(In ThousandDollars)'].fillna(method='ffill')"
   ]
  },
  {
   "cell_type": "code",
   "execution_count": 48,
   "metadata": {},
   "outputs": [],
   "source": [
    "df_test=df_test.drop('Sales(In ThousandDollars)',axis=1)"
   ]
  },
  {
   "cell_type": "code",
   "execution_count": 49,
   "metadata": {},
   "outputs": [],
   "source": [
    "X=df_train.drop('Sales(In ThousandDollars)',axis=1)\n",
    "y=df_train['Sales(In ThousandDollars)']"
   ]
  },
  {
   "cell_type": "code",
   "execution_count": 76,
   "metadata": {},
   "outputs": [],
   "source": [
    "from sklearn.tree import DecisionTreeRegressor\n",
    "from sklearn.ensemble import RandomForestRegressor\n",
    "from sklearn.model_selection import GridSearchCV\n",
    "from sklearn.metrics import make_scorer, fbeta_score, accuracy_score"
   ]
  },
  {
   "cell_type": "code",
   "execution_count": 72,
   "metadata": {},
   "outputs": [],
   "source": [
    "clf = DecisionTreeRegressor()\n",
    "\n",
    "parameters = {'max_depth':(1,2,3,4,5,6,7,8,9,10)},{'min_samples_split': (0.1,0.2,0.3,0.4,0.5)},\n",
    "{'min_samples_leaf': (1,2,3,4,5,6,7)},{'min_weight_fraction_leaf': (0.0,0.1,0.2)}\n",
    "\n",
    "#scorer = make_scorer(fbeta_score,beta=0.5)\n",
    "\n",
    "grid_obj = GridSearchCV(clf, param_grid = parameters)\n",
    "grid_fit = grid_obj.fit(X,y)\n",
    "\n",
    "best_clf = grid_fit.best_estimator_\n",
    "predictions = (clf.fit(X, y)).predict(df_test)\n",
    "best_predictions = best_clf.predict(df_test)"
   ]
  },
  {
   "cell_type": "code",
   "execution_count": 73,
   "metadata": {},
   "outputs": [
    {
     "data": {
      "text/plain": [
       "DecisionTreeRegressor(criterion='mse', max_depth=1, max_features=None,\n",
       "                      max_leaf_nodes=None, min_impurity_decrease=0.0,\n",
       "                      min_impurity_split=None, min_samples_leaf=1,\n",
       "                      min_samples_split=2, min_weight_fraction_leaf=0.0,\n",
       "                      presort=False, random_state=None, splitter='best')"
      ]
     },
     "execution_count": 73,
     "metadata": {},
     "output_type": "execute_result"
    }
   ],
   "source": [
    "best_clf"
   ]
  },
  {
   "cell_type": "code",
   "execution_count": 74,
   "metadata": {},
   "outputs": [],
   "source": [
    "from sklearn.ensemble import AdaBoostRegressor\n",
    "\n",
    "\n",
    "regr2 = AdaBoostRegressor(DecisionTreeRegressor(max_depth=1,criterion='mse',min_samples_leaf=1,\n",
    "                      min_samples_split=2),n_estimators=100, random_state=None)\n",
    "\n",
    "regr2.fit(X,y)\n",
    "\n",
    "pred_new =(regr2.predict(df_test))"
   ]
  },
  {
   "cell_type": "code",
   "execution_count": 75,
   "metadata": {},
   "outputs": [
    {
     "data": {
      "text/plain": [
       "array([3352.54945055, 1723.48648649, 1723.48648649, 3100.65384615,\n",
       "       1723.48648649, 1723.48648649, 3100.65384615, 1723.48648649,\n",
       "       1723.48648649, 3100.65384615, 1723.48648649, 1723.48648649,\n",
       "       3352.54945055, 1723.48648649, 1723.48648649, 3100.65384615,\n",
       "       1723.48648649, 1723.48648649, 3100.65384615, 1723.48648649,\n",
       "       1723.48648649, 3180.45783133, 1723.48648649, 1723.48648649,\n",
       "       3180.45783133, 1723.48648649, 1723.48648649, 3180.45783133,\n",
       "       1723.48648649, 1723.48648649, 3352.54945055, 1723.48648649,\n",
       "       1723.48648649, 3414.33333333, 1723.48648649, 1723.48648649])"
      ]
     },
     "execution_count": 75,
     "metadata": {},
     "output_type": "execute_result"
    }
   ],
   "source": [
    "pred_new"
   ]
  },
  {
   "cell_type": "code",
   "execution_count": 71,
   "metadata": {},
   "outputs": [],
   "source": [
    "submitdf = pd.DataFrame({'S.No.':np.arange(1,37), 'Sales':pred_new})\n",
    "submitdf.to_csv('new.csv',index=False)"
   ]
  },
  {
   "cell_type": "code",
   "execution_count": 77,
   "metadata": {},
   "outputs": [
    {
     "name": "stderr",
     "output_type": "stream",
     "text": [
      "C:\\Users\\RADHAKRISHNA\\AppData\\Local\\Continuum\\anaconda3\\lib\\site-packages\\sklearn\\model_selection\\_search.py:813: DeprecationWarning: The default of the `iid` parameter will change from True to False in version 0.22 and will be removed in 0.24. This will change numeric results when test-set sizes are unequal.\n",
      "  DeprecationWarning)\n"
     ]
    }
   ],
   "source": [
    "from sklearn.ensemble import RandomForestRegressor\n",
    "rfg=RandomForestRegressor(random_state=1)\n",
    "param_dist = {'n_estimators': (1,3,5,14,10,20,50),'max_depth': [2, 3, 4,10],'bootstrap': [True, False],\n",
    "              'max_features': ['auto', 'sqrt', 'log2', None],\n",
    "              'criterion': ['mse', 'mae']}\n",
    "\n",
    "cv_rf = GridSearchCV(rfg, cv = 5 ,param_grid=param_dist, n_jobs = 3)\n",
    "cv_rf.fit(X,y)\n",
    "rfpred=cv_rf.predict(df_test)"
   ]
  },
  {
   "cell_type": "code",
   "execution_count": 79,
   "metadata": {},
   "outputs": [
    {
     "data": {
      "text/plain": [
       "array([3528.5,  669. , 1049. , 3528.5,  669. , 1049. , 3528.5,  669. ,\n",
       "       1049. , 3528.5,  669. , 1049. , 3528.5,  669. , 1049. , 3528.5,\n",
       "        669. , 1049. , 3528.5,  669. , 1049. , 3528.5,  669. , 1049. ,\n",
       "       3528.5,  669. , 1049. , 3528.5,  669. , 1049. , 3528.5,  669. ,\n",
       "       1049. , 3528.5,  669. , 1049. ])"
      ]
     },
     "execution_count": 79,
     "metadata": {},
     "output_type": "execute_result"
    }
   ],
   "source": [
    "rfpred"
   ]
  },
  {
   "cell_type": "code",
   "execution_count": 81,
   "metadata": {},
   "outputs": [],
   "source": [
    "submitdf = pd.DataFrame({'S.No.':np.arange(1,37), 'Sales':rfpred})\n",
    "submitdf.to_csv('new.csv',index=False)"
   ]
  },
  {
   "cell_type": "code",
   "execution_count": 88,
   "metadata": {},
   "outputs": [],
   "source": [
    "from sklearn.ensemble import AdaBoostRegressor,GradientBoostingRegressor\n",
    "from sklearn.model_selection import RandomizedSearchCV,ShuffleSplit"
   ]
  },
  {
   "cell_type": "code",
   "execution_count": 105,
   "metadata": {},
   "outputs": [],
   "source": [
    "ada_classifier = AdaBoostRegressor(random_state=42)\n",
    "#cv_sets = ShuffleSplit(random_state = 4) # shuffling our data for cross-validation\n",
    "parameters = {'n_estimators':(1,200,2), \n",
    "              'learning_rate':[0.05, 0.1, 0.15, 0.2]}\n",
    "#scorer = make_scorer(f1_score)\n",
    "ada_obj = RandomizedSearchCV(ada_classifier, \n",
    "                              parameters, \n",
    "      #                        scoring = scorer, \n",
    "    #                          cv = cv_sets,\n",
    "                              random_state= 99)\n",
    "ada_fit = ada_obj.fit(X, y)\n",
    "ada_opt = ada_fit.best_estimator_"
   ]
  },
  {
   "cell_type": "code",
   "execution_count": 106,
   "metadata": {},
   "outputs": [
    {
     "data": {
      "text/plain": [
       "{'n_estimators': 200, 'learning_rate': 0.1}"
      ]
     },
     "execution_count": 106,
     "metadata": {},
     "output_type": "execute_result"
    }
   ],
   "source": [
    "ada_fit.best_params_"
   ]
  },
  {
   "cell_type": "code",
   "execution_count": 107,
   "metadata": {},
   "outputs": [
    {
     "data": {
      "text/plain": [
       "AdaBoostRegressor(base_estimator=None, learning_rate=0.1, loss='linear',\n",
       "                  n_estimators=200, random_state=42)"
      ]
     },
     "execution_count": 107,
     "metadata": {},
     "output_type": "execute_result"
    }
   ],
   "source": [
    "ada_opt"
   ]
  },
  {
   "cell_type": "code",
   "execution_count": 108,
   "metadata": {},
   "outputs": [],
   "source": [
    "ada_obj = AdaBoostRegressor(learning_rate = 0.1,\n",
    "                             n_estimators = 200,\n",
    "                            loss='linear',\n",
    "                             random_state=1)\n",
    "ada_opt = ada_obj.fit(X, y)"
   ]
  },
  {
   "cell_type": "code",
   "execution_count": 109,
   "metadata": {},
   "outputs": [
    {
     "data": {
      "text/plain": [
       "array([3918.57692308,  937.        , 1069.        , 3793.18518519,\n",
       "        902.72093023, 1056.        , 3816.125     ,  904.86440678,\n",
       "       1056.        , 3793.67857143,  913.81081081, 1056.        ,\n",
       "       3883.13636364, 1193.16666667, 1056.        , 3711.44444444,\n",
       "        959.26315789, 1056.        , 3711.44444444, 1453.02564103,\n",
       "       1124.        , 3762.31578947, 1812.03448276, 1124.76923077,\n",
       "       3843.28      , 1320.30769231, 1056.        , 3843.28      ,\n",
       "        940.73381295, 1056.        , 3894.03030303, 1388.41666667,\n",
       "       1078.18181818, 4632.55172414,  974.42622951, 1140.03389831])"
      ]
     },
     "execution_count": 109,
     "metadata": {},
     "output_type": "execute_result"
    }
   ],
   "source": [
    "y_pred_ada = ada_opt.predict(df_test)\n",
    "y_pred_ada"
   ]
  },
  {
   "cell_type": "code",
   "execution_count": 110,
   "metadata": {},
   "outputs": [],
   "source": [
    "submitdf = pd.DataFrame({'S.No.':np.arange(1,37), 'Sales':y_pred_ada})\n",
    "submitdf.to_csv('new.csv',index=False)"
   ]
  },
  {
   "cell_type": "code",
   "execution_count": 114,
   "metadata": {},
   "outputs": [],
   "source": [
    "from sklearn.ensemble import GradientBoostingRegressor\n",
    "GBC_regressor = GradientBoostingRegressor(random_state=42)\n",
    "#cv_sets = ShuffleSplit(random_state = 4) # shuffling our data for cross-validation\n",
    "parameters = {'n_estimators':(1,500,2), \n",
    "              'learning_rate':[0.01, 0.03, 0.05],\n",
    "              'min_samples_split':[2,4,6],\n",
    "              'min_samples_leaf':[3,5,7]}\n",
    "#scorer = make_scorer(f1_score)\n",
    "GBC_obj = RandomizedSearchCV(GBC_regressor, \n",
    "                             parameters, \n",
    "    #                         scoring = scorer, \n",
    " #                            cv = cv_sets,\n",
    "                             random_state= 99)\n",
    "GBC_fit = GBC_obj.fit(X, y)\n",
    "GBC_opt = GBC_fit.best_estimator_"
   ]
  },
  {
   "cell_type": "code",
   "execution_count": 115,
   "metadata": {},
   "outputs": [
    {
     "data": {
      "text/plain": [
       "GradientBoostingRegressor(alpha=0.9, criterion='friedman_mse', init=None,\n",
       "                          learning_rate=0.03, loss='ls', max_depth=3,\n",
       "                          max_features=None, max_leaf_nodes=None,\n",
       "                          min_impurity_decrease=0.0, min_impurity_split=None,\n",
       "                          min_samples_leaf=5, min_samples_split=6,\n",
       "                          min_weight_fraction_leaf=0.0, n_estimators=500,\n",
       "                          n_iter_no_change=None, presort='auto',\n",
       "                          random_state=42, subsample=1.0, tol=0.0001,\n",
       "                          validation_fraction=0.1, verbose=0, warm_start=False)"
      ]
     },
     "execution_count": 115,
     "metadata": {},
     "output_type": "execute_result"
    }
   ],
   "source": [
    "GBC_opt"
   ]
  },
  {
   "cell_type": "code",
   "execution_count": 116,
   "metadata": {},
   "outputs": [
    {
     "data": {
      "text/plain": [
       "{'n_estimators': 500,\n",
       " 'min_samples_split': 6,\n",
       " 'min_samples_leaf': 5,\n",
       " 'learning_rate': 0.03}"
      ]
     },
     "execution_count": 116,
     "metadata": {},
     "output_type": "execute_result"
    }
   ],
   "source": [
    "GBC_fit.best_params_"
   ]
  },
  {
   "cell_type": "code",
   "execution_count": 117,
   "metadata": {},
   "outputs": [],
   "source": [
    "GBC_obj = GradientBoostingRegressor(learning_rate = 0.03,\n",
    "                                    criterion='friedman_mse',\n",
    "                                     max_depth = 3,\n",
    "                                     min_samples_leaf = 5,\n",
    "                                     min_samples_split = 6,\n",
    "                                     n_estimators = 500,\n",
    "                                     random_state=42)\n",
    "GBC_opt = GBC_obj.fit(X, y)"
   ]
  },
  {
   "cell_type": "code",
   "execution_count": 118,
   "metadata": {},
   "outputs": [
    {
     "data": {
      "text/plain": [
       "array([4057.97868447, 1030.18228388, 1607.49840034, 4216.98173401,\n",
       "        954.0453447 , 1511.52392047, 4282.96482136,  907.67855593,\n",
       "       1504.46900759, 4490.88055676, 1287.43065083, 1441.72042185,\n",
       "       4495.72451679, 1438.05114349, 1618.85495955, 4106.0749495 ,\n",
       "       1023.28630741, 1442.03017152, 3898.46141003,  974.9849434 ,\n",
       "       1095.33190174, 4039.45282128, 1270.78063717,  871.76152628,\n",
       "       4591.84946866, 1452.91896051, 1354.8825118 , 4464.1112561 ,\n",
       "       1332.79012109, 1493.15987638, 4578.12771758, 1790.00711175,\n",
       "       1556.42173109, 5186.10085527, 1072.7964797 , 1702.09820865])"
      ]
     },
     "execution_count": 118,
     "metadata": {},
     "output_type": "execute_result"
    }
   ],
   "source": [
    "y_pred_gbc = GBC_opt.predict(df_test)\n",
    "y_pred_gbc"
   ]
  },
  {
   "cell_type": "code",
   "execution_count": 119,
   "metadata": {},
   "outputs": [],
   "source": [
    "submitdf = pd.DataFrame({'S.No.':np.arange(1,37), 'Sales':y_pred_ada})\n",
    "submitdf.to_csv('new.csv',index=False)"
   ]
  },
  {
   "cell_type": "code",
   "execution_count": 121,
   "metadata": {},
   "outputs": [
    {
     "name": "stdout",
     "output_type": "stream",
     "text": [
      "Collecting xgboost\n",
      "  Downloading https://files.pythonhosted.org/packages/5e/49/b95c037b717b4ceadc76b6e164603471225c27052d1611d5a2e832757945/xgboost-0.90-py2.py3-none-win_amd64.whl (18.3MB)\n",
      "Requirement already satisfied: numpy in c:\\users\\radhakrishna\\appdata\\local\\continuum\\anaconda3\\lib\\site-packages (from xgboost) (1.16.4)\n",
      "Requirement already satisfied: scipy in c:\\users\\radhakrishna\\appdata\\local\\continuum\\anaconda3\\lib\\site-packages (from xgboost) (1.3.1)\n",
      "Installing collected packages: xgboost\n",
      "Successfully installed xgboost-0.90\n"
     ]
    }
   ],
   "source": [
    "!pip install xgboost"
   ]
  },
  {
   "cell_type": "code",
   "execution_count": 122,
   "metadata": {},
   "outputs": [],
   "source": [
    "from xgboost import XGBRegressor"
   ]
  },
  {
   "cell_type": "code",
   "execution_count": 124,
   "metadata": {},
   "outputs": [
    {
     "name": "stdout",
     "output_type": "stream",
     "text": [
      "[16:14:23] WARNING: C:/Jenkins/workspace/xgboost-win64_release_0.90/src/objective/regression_obj.cu:152: reg:linear is now deprecated in favor of reg:squarederror.\n"
     ]
    }
   ],
   "source": [
    "xb=XGBRegressor()\n",
    "xb.fit(X,y)\n",
    "xpred=xb.predict(df_test)"
   ]
  },
  {
   "cell_type": "code",
   "execution_count": 126,
   "metadata": {},
   "outputs": [
    {
     "data": {
      "text/plain": [
       "array([3691.5603, 1179.948 , 1455.5898, 4015.7937, 1136.9655, 1422.8804,\n",
       "       4205.017 , 1203.9268, 1428.5912, 4393.0034, 1217.4998, 1499.6853,\n",
       "       4485.1436, 1364.7817, 1462.957 , 3950.719 , 1253.0756, 1353.5796,\n",
       "       4147.7427, 1289.4866, 1257.4517, 4015.34  , 1328.894 , 1154.372 ,\n",
       "       4152.864 , 1369.5875, 1039.4946, 4006.4766, 1262.0994, 1307.1486,\n",
       "       4428.9014, 1422.5687, 1487.6763, 4935.8057, 1067.6829, 1644.3497],\n",
       "      dtype=float32)"
      ]
     },
     "execution_count": 126,
     "metadata": {},
     "output_type": "execute_result"
    }
   ],
   "source": [
    "xpred"
   ]
  },
  {
   "cell_type": "code",
   "execution_count": 127,
   "metadata": {},
   "outputs": [],
   "source": [
    "submitdf = pd.DataFrame({'S.No.':np.arange(1,37), 'Sales':xpred})\n",
    "submitdf.to_csv('new.csv',index=False)"
   ]
  },
  {
   "cell_type": "code",
   "execution_count": 136,
   "metadata": {},
   "outputs": [],
   "source": [
    "model=DecisionTreeRegressor()\n",
    "ada_obj = AdaBoostRegressor(base_estimator=model,\n",
    "    learning_rate = 0.01,\n",
    "                             n_estimators = 100,\n",
    "                        \n",
    "                             random_state=100)\n",
    "ada_opt = ada_obj.fit(X, y)"
   ]
  },
  {
   "cell_type": "code",
   "execution_count": 137,
   "metadata": {},
   "outputs": [],
   "source": [
    "pred=ada_opt.predict(df_test)"
   ]
  },
  {
   "cell_type": "code",
   "execution_count": 138,
   "metadata": {},
   "outputs": [
    {
     "data": {
      "text/plain": [
       "array([4421.,  757., 1468., 4268.,  636., 1337., 4421.,  757., 1337.,\n",
       "       4268.,  731., 1293., 4434.,  749., 1229., 4421.,  702., 1257.,\n",
       "       4067.,  692., 1293., 4067.,  702., 1153., 4067.,  731., 1155.,\n",
       "       4434.,  785., 1209., 4434.,  785., 1252., 4865., 1070., 1566.])"
      ]
     },
     "execution_count": 138,
     "metadata": {},
     "output_type": "execute_result"
    }
   ],
   "source": [
    "pred"
   ]
  },
  {
   "cell_type": "code",
   "execution_count": 139,
   "metadata": {},
   "outputs": [],
   "source": [
    "submitdf = pd.DataFrame({'S.No.':np.arange(1,37), 'Sales':xpred})\n",
    "submitdf.to_csv('new.csv',index=False)"
   ]
  },
  {
   "cell_type": "code",
   "execution_count": 142,
   "metadata": {},
   "outputs": [
    {
     "data": {
      "text/plain": [
       "array([4416.90909091,  677.66101695, 1095.69491525, 4416.90909091,\n",
       "        677.66101695, 1095.69491525, 4416.90909091,  677.66101695,\n",
       "       1095.69491525, 4416.90909091,  677.66101695, 1095.69491525,\n",
       "       4416.90909091,  677.66101695, 1095.69491525, 4416.90909091,\n",
       "        677.66101695, 1095.69491525, 4416.90909091,  801.85714286,\n",
       "        801.85714286, 4416.90909091,  801.85714286,  801.85714286,\n",
       "       4416.90909091,  801.85714286,  801.85714286, 4416.90909091,\n",
       "        677.66101695, 1095.69491525, 4416.90909091,  677.66101695,\n",
       "       1095.69491525, 4416.90909091,  677.66101695, 1095.69491525])"
      ]
     },
     "execution_count": 142,
     "metadata": {},
     "output_type": "execute_result"
    }
   ],
   "source": [
    "from sklearn.tree import DecisionTreeRegressor\n",
    "giniDecisionTree = DecisionTreeRegressor(random_state = 100,max_depth=3, min_samples_leaf=5)\n",
    "\n",
    "giniDecisionTree.fit(X,y)\n",
    "\n",
    "giniPred = giniDecisionTree.predict(df_test)\n",
    "giniPred"
   ]
  },
  {
   "cell_type": "code",
   "execution_count": 143,
   "metadata": {},
   "outputs": [],
   "source": [
    "submitdf = pd.DataFrame({'S.No.':np.arange(1,37), 'Sales':giniPred})\n",
    "submitdf.to_csv('new.csv',index=False)"
   ]
  },
  {
   "cell_type": "code",
   "execution_count": null,
   "metadata": {},
   "outputs": [],
   "source": []
  }
 ],
 "metadata": {
  "kernelspec": {
   "display_name": "Python 3",
   "language": "python",
   "name": "python3"
  },
  "language_info": {
   "codemirror_mode": {
    "name": "ipython",
    "version": 3
   },
   "file_extension": ".py",
   "mimetype": "text/x-python",
   "name": "python",
   "nbconvert_exporter": "python",
   "pygments_lexer": "ipython3",
   "version": "3.7.1"
  },
  "toc": {
   "base_numbering": 1,
   "nav_menu": {},
   "number_sections": false,
   "sideBar": true,
   "skip_h1_title": false,
   "title_cell": "Table of Contents",
   "title_sidebar": "Contents",
   "toc_cell": false,
   "toc_position": {},
   "toc_section_display": true,
   "toc_window_display": false
  }
 },
 "nbformat": 4,
 "nbformat_minor": 2
}
